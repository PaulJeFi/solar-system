{
 "cells": [
  {
   "cell_type": "markdown",
   "metadata": {},
   "source": [
    "L'exentricité $e$ d'une ellipse est :\n",
    "\n",
    "$$e=\\sqrt{1-\\frac{{b}^{2}}{{a}^{2}}}$$\n",
    "\n",
    "où\n",
    "\n",
    "$a$ est le demi-grand axe de l'ellipse;\\\n",
    "$b$ est le demi-petit axe de l'ellipse.\n",
    "\n",
    "La distance $c$ des foyers au centre de l'ellipse est :\n",
    "\n",
    "$$c=\\sqrt{{a}^{2}-{b}^{2}}$$"
   ]
  },
  {
   "cell_type": "code",
   "execution_count": 8,
   "metadata": {},
   "outputs": [],
   "source": [
    "import matplotlib.pyplot as plt\n",
    "import numpy as np"
   ]
  },
  {
   "cell_type": "code",
   "execution_count": 9,
   "metadata": {},
   "outputs": [],
   "source": [
    "def exentricite(a, b) :\n",
    "    return np.sqrt(1-(b/a)**2)\n",
    "\n",
    "def foyer(a, b) :\n",
    "    return np.sqrt((a**2)-(b**2))"
   ]
  },
  {
   "cell_type": "code",
   "execution_count": 10,
   "metadata": {},
   "outputs": [],
   "source": [
    "a, b = 2.5, 2\n",
    "t = np.linspace(0, 1000, 1000)\n",
    "x = a*np.cos(t)\n",
    "y = b*np.sin(t)"
   ]
  },
  {
   "cell_type": "code",
   "execution_count": 11,
   "metadata": {},
   "outputs": [
    {
     "data": {
      "text/plain": [
       "<matplotlib.collections.PathCollection at 0x112291bd0>"
      ]
     },
     "execution_count": 11,
     "metadata": {},
     "output_type": "execute_result"
    },
    {
     "data": {
      "image/png": "[encoded data removed]",
      "text/plain": [
       "<Figure size 432x288 with 1 Axes>"
      ]
     },
     "metadata": {
      "needs_background": "light"
     },
     "output_type": "display_data"
    }
   ],
   "source": [
    "plt.scatter(x, y, s=1)\n",
    "plt.scatter(foyer(a,b), 0, s=100, c='y')"
   ]
  },
  {
   "cell_type": "code",
   "execution_count": 12,
   "metadata": {},
   "outputs": [],
   "source": [
    "import position_planetes\n",
    "import numpy as np\n",
    "import matplotlib.pyplot as plt\n",
    "\n",
    "def get_coords(L, B, R) :\n",
    "    return [R * np.sin(L%(2*np.pi)), R * np.cos(L%(2*np.pi))]"
   ]
  },
  {
   "cell_type": "code",
   "execution_count": 13,
   "metadata": {},
   "outputs": [],
   "source": [
    "for planete in 'Mercure Venus Terre Mars Jupiter Saturn Uranus Neptune'.split() :\n",
    "    try :\n",
    "        position_planetes.get_by_VSOP87(planete, 2022, 1, 1)\n",
    "    except Exception :\n",
    "        print(planete)"
   ]
  },
  {
   "cell_type": "code",
   "execution_count": 14,
   "metadata": {},
   "outputs": [
    {
     "data": {
      "text/plain": [
       "(-1.4471453171372417,\n",
       " 0.05964282352601306,\n",
       " -1.051368981790929,\n",
       " 0.4356220119476901)"
      ]
     },
     "execution_count": 14,
     "metadata": {},
     "output_type": "execute_result"
    },
    {
     "data": {
      "image/png": "[encoded data removed]",
      "text/plain": [
       "<Figure size 432x288 with 1 Axes>"
      ]
     },
     "metadata": {
      "needs_background": "light"
     },
     "output_type": "display_data"
    }
   ],
   "source": [
    "date = (2022, 3, 31)\n",
    "for planet, color in zip('Mercure Venus Terre Mars'.split(), 'gray orange blue red'.split()) :\n",
    "    plt.scatter(*get_coords(*position_planetes.get_by_VSOP87(planet, *date)), c=color)\n",
    "sun = position_planetes.get_sun(*date)\n",
    "plt.scatter(sun[0], sun[1], s=400, c='y')\n",
    "plt.scatter(0, 0, c='k', s = 10)\n",
    "plt.axis('equal')"
   ]
  },
  {
   "cell_type": "code",
   "execution_count": null,
   "metadata": {},
   "outputs": [],
   "source": []
  }
 ],
 "metadata": {
  "interpreter": {
   "hash": "aee8b7b246df8f9039afb4144a1f6fd8d2ca17a180786b69acc140d282b71a49"
  },
  "kernelspec": {
   "display_name": "Python 3.9.7 64-bit",
   "language": "python",
   "name": "python3"
  },
  "language_info": {
   "codemirror_mode": {
    "name": "ipython",
    "version": 3
   },
   "file_extension": ".py",
   "mimetype": "text/x-python",
   "name": "python",
   "nbconvert_exporter": "python",
   "pygments_lexer": "ipython3",
   "version": "3.10.1"
  },
  "orig_nbformat": 4
 },
 "nbformat": 4,
 "nbformat_minor": 2
}
